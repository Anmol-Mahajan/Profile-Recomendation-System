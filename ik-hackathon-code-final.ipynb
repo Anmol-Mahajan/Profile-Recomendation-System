{
 "cells": [
  {
   "cell_type": "code",
   "execution_count": 5,
   "metadata": {
    "executionInfo": {
     "elapsed": 406,
     "status": "ok",
     "timestamp": 1640272813199,
     "user": {
      "displayName": "Aarush Mittal",
      "photoUrl": "https://lh3.googleusercontent.com/a-/AOh14Gjw8gyqLNQJRVxW5GvpWyHUmS1CySeB6krBbEYO=s64",
      "userId": "06830626512205362143"
     },
     "user_tz": -330
    },
    "id": "2K9ariMUKTcY"
   },
   "outputs": [],
   "source": [
    "import pandas as pd\n",
    "import numpy as np\n",
    "import matplotlib.pyplot as plt\n",
    "import seaborn as sns\n",
    "%matplotlib inline"
   ]
  },
  {
   "cell_type": "code",
   "execution_count": 6,
   "metadata": {
    "executionInfo": {
     "elapsed": 707,
     "status": "ok",
     "timestamp": 1640272814562,
     "user": {
      "displayName": "Aarush Mittal",
      "photoUrl": "https://lh3.googleusercontent.com/a-/AOh14Gjw8gyqLNQJRVxW5GvpWyHUmS1CySeB6krBbEYO=s64",
      "userId": "06830626512205362143"
     },
     "user_tz": -330
    },
    "id": "fWv5E8paK2nv"
   },
   "outputs": [],
   "source": [
    "df = pd.read_excel('profile-data.xlsx', sheet_name='data')"
   ]
  },
  {
   "cell_type": "code",
   "execution_count": 7,
   "metadata": {
    "colab": {
     "base_uri": "https://localhost:8080/",
     "height": 426
    },
    "executionInfo": {
     "elapsed": 627,
     "status": "ok",
     "timestamp": 1640272815817,
     "user": {
      "displayName": "Aarush Mittal",
      "photoUrl": "https://lh3.googleusercontent.com/a-/AOh14Gjw8gyqLNQJRVxW5GvpWyHUmS1CySeB6krBbEYO=s64",
      "userId": "06830626512205362143"
     },
     "user_tz": -330
    },
    "id": "35yC5ewILPlm",
    "outputId": "00deafd1-940a-441b-f76f-4d25f3f10d02"
   },
   "outputs": [
    {
     "data": {
      "text/html": [
       "<div>\n",
       "<style scoped>\n",
       "    .dataframe tbody tr th:only-of-type {\n",
       "        vertical-align: middle;\n",
       "    }\n",
       "\n",
       "    .dataframe tbody tr th {\n",
       "        vertical-align: top;\n",
       "    }\n",
       "\n",
       "    .dataframe thead th {\n",
       "        text-align: right;\n",
       "    }\n",
       "</style>\n",
       "<table border=\"1\" class=\"dataframe\">\n",
       "  <thead>\n",
       "    <tr style=\"text-align: right;\">\n",
       "      <th></th>\n",
       "      <th>Profile Link</th>\n",
       "      <th>Name</th>\n",
       "      <th>Bachelors</th>\n",
       "      <th>Bachelors Keywords</th>\n",
       "      <th>bachelors_keywords</th>\n",
       "      <th>masters</th>\n",
       "      <th>Masters Keywords</th>\n",
       "      <th>masters_keywords</th>\n",
       "      <th>phd</th>\n",
       "      <th>PhD Keywords</th>\n",
       "      <th>...</th>\n",
       "      <th>Previous Companies</th>\n",
       "      <th>supervised</th>\n",
       "      <th>unsupervised</th>\n",
       "      <th>deep</th>\n",
       "      <th>Reinforcement</th>\n",
       "      <th>system_design</th>\n",
       "      <th>sql</th>\n",
       "      <th>stats</th>\n",
       "      <th>database</th>\n",
       "      <th>research</th>\n",
       "    </tr>\n",
       "  </thead>\n",
       "  <tbody>\n",
       "    <tr>\n",
       "      <th>0</th>\n",
       "      <td>https://www.linkedin.com/in/mohammad-yawar-3b3...</td>\n",
       "      <td>Mohammad Yawar</td>\n",
       "      <td>Yes</td>\n",
       "      <td>Civil Engineering</td>\n",
       "      <td>Engineering</td>\n",
       "      <td>Yes</td>\n",
       "      <td>Data Science</td>\n",
       "      <td>Data Science</td>\n",
       "      <td>No</td>\n",
       "      <td>NaN</td>\n",
       "      <td>...</td>\n",
       "      <td>Kentech Group</td>\n",
       "      <td>Yes</td>\n",
       "      <td>Yes</td>\n",
       "      <td>No</td>\n",
       "      <td>No</td>\n",
       "      <td>No</td>\n",
       "      <td>Yes</td>\n",
       "      <td>Yes</td>\n",
       "      <td>Yes</td>\n",
       "      <td>No</td>\n",
       "    </tr>\n",
       "    <tr>\n",
       "      <th>1</th>\n",
       "      <td>https://www.linkedin.com/in/aanchal-nagpal/</td>\n",
       "      <td>Aanchal Nagpal</td>\n",
       "      <td>Yes</td>\n",
       "      <td>Electronics</td>\n",
       "      <td>Electrical Engineering</td>\n",
       "      <td>Yes</td>\n",
       "      <td>Informatics</td>\n",
       "      <td>IT</td>\n",
       "      <td>No</td>\n",
       "      <td>NaN</td>\n",
       "      <td>...</td>\n",
       "      <td>Axtria, Atos</td>\n",
       "      <td>No</td>\n",
       "      <td>No</td>\n",
       "      <td>No</td>\n",
       "      <td>No</td>\n",
       "      <td>No</td>\n",
       "      <td>Yes</td>\n",
       "      <td>Yes</td>\n",
       "      <td>Yes</td>\n",
       "      <td>No</td>\n",
       "    </tr>\n",
       "    <tr>\n",
       "      <th>2</th>\n",
       "      <td>https://www.linkedin.com/in/nisha-dalal-418323...</td>\n",
       "      <td>Nisha Dalal</td>\n",
       "      <td>Yes</td>\n",
       "      <td>Economics</td>\n",
       "      <td>Economics</td>\n",
       "      <td>Yes</td>\n",
       "      <td>Statistics</td>\n",
       "      <td>Statistics</td>\n",
       "      <td>No</td>\n",
       "      <td>NaN</td>\n",
       "      <td>...</td>\n",
       "      <td>NaN</td>\n",
       "      <td>No</td>\n",
       "      <td>No</td>\n",
       "      <td>No</td>\n",
       "      <td>No</td>\n",
       "      <td>No</td>\n",
       "      <td>Yes</td>\n",
       "      <td>Yes</td>\n",
       "      <td>Yes</td>\n",
       "      <td>No</td>\n",
       "    </tr>\n",
       "    <tr>\n",
       "      <th>3</th>\n",
       "      <td>https://www.linkedin.com/in/jingyu-zhang-38709...</td>\n",
       "      <td>Jingyu Zhang</td>\n",
       "      <td>Yes</td>\n",
       "      <td>Accounting</td>\n",
       "      <td>Mathematics</td>\n",
       "      <td>Yes</td>\n",
       "      <td>Business Analytics</td>\n",
       "      <td>Data Science</td>\n",
       "      <td>No</td>\n",
       "      <td>NaN</td>\n",
       "      <td>...</td>\n",
       "      <td>Advance Auto Parts</td>\n",
       "      <td>No</td>\n",
       "      <td>No</td>\n",
       "      <td>No</td>\n",
       "      <td>No</td>\n",
       "      <td>No</td>\n",
       "      <td>Yes</td>\n",
       "      <td>Yes</td>\n",
       "      <td>Yes</td>\n",
       "      <td>No</td>\n",
       "    </tr>\n",
       "    <tr>\n",
       "      <th>4</th>\n",
       "      <td>https://www.linkedin.com/in/yanyu-anne-liu-59b...</td>\n",
       "      <td>Yanyu (Anne) Liu</td>\n",
       "      <td>Yes</td>\n",
       "      <td>Mathematics</td>\n",
       "      <td>Mathematics</td>\n",
       "      <td>Yes</td>\n",
       "      <td>Statistics</td>\n",
       "      <td>Statistics</td>\n",
       "      <td>No</td>\n",
       "      <td>NaN</td>\n",
       "      <td>...</td>\n",
       "      <td>Suning, QuaEra</td>\n",
       "      <td>Yes</td>\n",
       "      <td>Yes</td>\n",
       "      <td>Yes</td>\n",
       "      <td>No</td>\n",
       "      <td>No</td>\n",
       "      <td>Yes</td>\n",
       "      <td>Yes</td>\n",
       "      <td>Yes</td>\n",
       "      <td>No</td>\n",
       "    </tr>\n",
       "  </tbody>\n",
       "</table>\n",
       "<p>5 rows × 32 columns</p>\n",
       "</div>"
      ],
      "text/plain": [
       "                                        Profile Link              Name  \\\n",
       "0  https://www.linkedin.com/in/mohammad-yawar-3b3...    Mohammad Yawar   \n",
       "1        https://www.linkedin.com/in/aanchal-nagpal/    Aanchal Nagpal   \n",
       "2  https://www.linkedin.com/in/nisha-dalal-418323...       Nisha Dalal   \n",
       "3  https://www.linkedin.com/in/jingyu-zhang-38709...      Jingyu Zhang   \n",
       "4  https://www.linkedin.com/in/yanyu-anne-liu-59b...  Yanyu (Anne) Liu   \n",
       "\n",
       "  Bachelors Bachelors Keywords      bachelors_keywords masters  \\\n",
       "0       Yes  Civil Engineering             Engineering     Yes   \n",
       "1       Yes        Electronics  Electrical Engineering     Yes   \n",
       "2       Yes          Economics               Economics     Yes   \n",
       "3       Yes         Accounting             Mathematics     Yes   \n",
       "4       Yes        Mathematics             Mathematics     Yes   \n",
       "\n",
       "     Masters Keywords masters_keywords phd PhD Keywords  ...  \\\n",
       "0        Data Science     Data Science  No          NaN  ...   \n",
       "1         Informatics               IT  No          NaN  ...   \n",
       "2          Statistics       Statistics  No          NaN  ...   \n",
       "3  Business Analytics     Data Science  No          NaN  ...   \n",
       "4          Statistics       Statistics  No          NaN  ...   \n",
       "\n",
       "   Previous Companies supervised unsupervised  deep Reinforcement  \\\n",
       "0       Kentech Group        Yes          Yes    No            No   \n",
       "1        Axtria, Atos         No           No    No            No   \n",
       "2                 NaN         No           No    No            No   \n",
       "3  Advance Auto Parts         No           No    No            No   \n",
       "4      Suning, QuaEra        Yes          Yes   Yes            No   \n",
       "\n",
       "  system_design  sql  stats  database research  \n",
       "0            No  Yes    Yes       Yes       No  \n",
       "1            No  Yes    Yes       Yes       No  \n",
       "2            No  Yes    Yes       Yes       No  \n",
       "3            No  Yes    Yes       Yes       No  \n",
       "4            No  Yes    Yes       Yes       No  \n",
       "\n",
       "[5 rows x 32 columns]"
      ]
     },
     "execution_count": 7,
     "metadata": {},
     "output_type": "execute_result"
    }
   ],
   "source": [
    "df.head()"
   ]
  },
  {
   "cell_type": "code",
   "execution_count": 14,
   "metadata": {
    "colab": {
     "base_uri": "https://localhost:8080/"
    },
    "executionInfo": {
     "elapsed": 2,
     "status": "ok",
     "timestamp": 1640272817216,
     "user": {
      "displayName": "Aarush Mittal",
      "photoUrl": "https://lh3.googleusercontent.com/a-/AOh14Gjw8gyqLNQJRVxW5GvpWyHUmS1CySeB6krBbEYO=s64",
      "userId": "06830626512205362143"
     },
     "user_tz": -330
    },
    "id": "6G-q0sHKLefk",
    "outputId": "43320e41-285f-4281-b510-75d517092565"
   },
   "outputs": [
    {
     "data": {
      "text/plain": [
       "Computer Science                                18\n",
       "Electrical Engineering                           6\n",
       "Mathematics                                      5\n",
       "Economics                                        4\n",
       "Physics                                          4\n",
       "Psychology                                       3\n",
       "Applied Mathematics                              3\n",
       "Statistics                                       3\n",
       "Computer Engineering                             3\n",
       "Information Technology                           3\n",
       "Economics, Mathematics                           2\n",
       "Computer Science and Engineering                 2\n",
       "Industrial Engineering                           2\n",
       "Electrical and Electronics Engineering           2\n",
       "Mechanical Engineering                           2\n",
       "Accounting                                       2\n",
       "Data Analytics, Machine Learning                 1\n",
       "Mathematics, Computer Engineering                1\n",
       "Civil Engineering                                1\n",
       "Mathematics, Physics                             1\n",
       "Computer Software Engineering                    1\n",
       "Bioinformatics                                   1\n",
       "Information Systems & Decision Sciences\\n        1\n",
       "Automation                                       1\n",
       "Electronics and Communication                    1\n",
       "Philosophy                                       1\n",
       "Biology                                          1\n",
       "Business Administration and Management           1\n",
       "Electronics and Communication Engineering\\n      1\n",
       "Design and Visual Communications                 1\n",
       "Business Studies                                 1\n",
       "Electrical and Biomedical Engineering            1\n",
       "Marketing                                        1\n",
       "Physical Chemistry                               1\n",
       "English                                          1\n",
       "Political Science and Economics                  1\n",
       "Supply Chain Management                          1\n",
       "Finance and Information Systems                  1\n",
       "Finance and Financial Management Services        1\n",
       "Accounting                                       1\n",
       "Finance and Management Information Systems       1\n",
       "Electrical Engineering and Finance               1\n",
       "Mathematics, Statistics, Physics                 1\n",
       "Electronics                                      1\n",
       "Energy and Environmental Systems Engineering     1\n",
       "Information Management                           1\n",
       "Information Science and Engineering              1\n",
       "Name: Bachelors Keywords, dtype: int64"
      ]
     },
     "execution_count": 14,
     "metadata": {},
     "output_type": "execute_result"
    }
   ],
   "source": [
    "df['Bachelors Keywords'].value_counts()\n",
    "# Computer Science\n",
    "# Electrical\n",
    "# Mathematics\n",
    "# Economics\n",
    "# Engineering\n",
    "# Science (Physics, Bio, chem)\n",
    "# IT\n",
    "# HSS\n",
    "# Others"
   ]
  },
  {
   "cell_type": "code",
   "execution_count": 15,
   "metadata": {
    "colab": {
     "base_uri": "https://localhost:8080/"
    },
    "executionInfo": {
     "elapsed": 16,
     "status": "ok",
     "timestamp": 1640267862338,
     "user": {
      "displayName": "Aarush Mittal",
      "photoUrl": "https://lh3.googleusercontent.com/a-/AOh14Gjw8gyqLNQJRVxW5GvpWyHUmS1CySeB6krBbEYO=s64",
      "userId": "06830626512205362143"
     },
     "user_tz": -330
    },
    "id": "p8P8jr1sLnOn",
    "outputId": "74d42e92-d1ad-4a98-81e7-6bf975c24592"
   },
   "outputs": [
    {
     "data": {
      "text/plain": [
       "Computer Science    31\n",
       "Data Science        11\n",
       "Statistics           9\n",
       "Science              6\n",
       "Engineering          5\n",
       "Economics            5\n",
       "IT                   4\n",
       "Machine Learning     4\n",
       "HSS                  2\n",
       "Name: masters_keywords, dtype: int64"
      ]
     },
     "execution_count": 15,
     "metadata": {},
     "output_type": "execute_result"
    }
   ],
   "source": [
    "df['masters_keywords'].value_counts()"
   ]
  },
  {
   "cell_type": "code",
   "execution_count": 16,
   "metadata": {
    "colab": {
     "base_uri": "https://localhost:8080/"
    },
    "executionInfo": {
     "elapsed": 15,
     "status": "ok",
     "timestamp": 1640267862339,
     "user": {
      "displayName": "Aarush Mittal",
      "photoUrl": "https://lh3.googleusercontent.com/a-/AOh14Gjw8gyqLNQJRVxW5GvpWyHUmS1CySeB6krBbEYO=s64",
      "userId": "06830626512205362143"
     },
     "user_tz": -330
    },
    "id": "9eP817NLPpwl",
    "outputId": "aa6e45fd-74b4-4a6a-e317-7ab55f897a38"
   },
   "outputs": [
    {
     "data": {
      "text/plain": [
       "Computer Science    11\n",
       "Science             10\n",
       "Statistics           6\n",
       "Engineering          3\n",
       "Machine Learning     2\n",
       "HSS                  1\n",
       "Name: phd_keywords, dtype: int64"
      ]
     },
     "execution_count": 16,
     "metadata": {},
     "output_type": "execute_result"
    }
   ],
   "source": [
    "df['phd_keywords'].value_counts()"
   ]
  },
  {
   "cell_type": "code",
   "execution_count": 17,
   "metadata": {
    "colab": {
     "base_uri": "https://localhost:8080/"
    },
    "executionInfo": {
     "elapsed": 14,
     "status": "ok",
     "timestamp": 1640267862339,
     "user": {
      "displayName": "Aarush Mittal",
      "photoUrl": "https://lh3.googleusercontent.com/a-/AOh14Gjw8gyqLNQJRVxW5GvpWyHUmS1CySeB6krBbEYO=s64",
      "userId": "06830626512205362143"
     },
     "user_tz": -330
    },
    "id": "EZZ3rkTuPsGK",
    "outputId": "6d04f126-104f-4c24-9238-52549fad2a8c"
   },
   "outputs": [
    {
     "data": {
      "text/plain": [
       "Data Scientist                                    17\n",
       "Software Engineer                                 12\n",
       "Machine Learning Engineer                          5\n",
       "Data Analyst                                       4\n",
       "Senior Data Scientist                              4\n",
       "Operations Analyst                                 2\n",
       "Machine Learning Research Scientist                2\n",
       "Research Assistant                                 2\n",
       "Machine Learning Engineer II                       2\n",
       "Senior Software Engineer                           2\n",
       "Senior Research Scientist                          2\n",
       "Business Analyst                                   2\n",
       "Staff Research Scientist                           1\n",
       "Machine Learning Research Scientist II             1\n",
       "Chief Technology Officer                           1\n",
       "Vice President                                     1\n",
       "Senior Applied Scientist                           1\n",
       "Interim Research Engineer                          1\n",
       "Consultant                                         1\n",
       "Senior Machine Learning Engineer                   1\n",
       "Software Engineer 2                                1\n",
       "Applied Research Engineer                          1\n",
       "Lead Computer Scientist                            1\n",
       "Data Engineer                                      1\n",
       "Senior Solutions Architect                         1\n",
       "Senior Engineer                                    1\n",
       "Research Scientist                                 1\n",
       "Applied Scientist II                               1\n",
       "Technical Product Supervisor                       1\n",
       "Senior Strategy & Operations Analyst               1\n",
       "Lead Analyst                                       1\n",
       "Trade Compliance Specialist                        1\n",
       "Technical Analyst                                  1\n",
       "Quantitative Research                              1\n",
       "Venture Technology Manager                         1\n",
       "Fab Planning Manager                               1\n",
       "Forecasting Analyst                                1\n",
       "Supply Chain Transportation Analyst                1\n",
       "Researcher                                         1\n",
       "Business Intelligence Engineer                     1\n",
       "Senior Analyst                                     1\n",
       "Algorithm Engineer                                 1\n",
       "Sr Business Intelligence Developer / Team Lead     1\n",
       "Data Manager                                       1\n",
       "Senior Data Engieer                                1\n",
       "Senior Associate                                   1\n",
       "Head of ML Ops                                     1\n",
       "Data Quality Coordinator                           1\n",
       "Data Scientist Fellow                              1\n",
       "Audit Senior                                       1\n",
       "Senior Business Associate                          1\n",
       "Senior Expert in Automated Driving                 1\n",
       "Staff Machine Learning Engineer                    1\n",
       "Name: previous_roles, dtype: int64"
      ]
     },
     "execution_count": 17,
     "metadata": {},
     "output_type": "execute_result"
    }
   ],
   "source": [
    "df['previous_roles'].value_counts()"
   ]
  },
  {
   "cell_type": "code",
   "execution_count": 12,
   "metadata": {
    "executionInfo": {
     "elapsed": 13,
     "status": "ok",
     "timestamp": 1640267862339,
     "user": {
      "displayName": "Aarush Mittal",
      "photoUrl": "https://lh3.googleusercontent.com/a-/AOh14Gjw8gyqLNQJRVxW5GvpWyHUmS1CySeB6krBbEYO=s64",
      "userId": "06830626512205362143"
     },
     "user_tz": -330
    },
    "id": "r3Qlv_tAPtw8"
   },
   "outputs": [
    {
     "ename": "KeyError",
     "evalue": "\"['tot_exp', 'dom_exp'] not in index\"",
     "output_type": "error",
     "traceback": [
      "\u001b[0;31m---------------------------------------------------------------------------\u001b[0m",
      "\u001b[0;31mKeyError\u001b[0m                                  Traceback (most recent call last)",
      "\u001b[0;32m/var/folders/g0/w2th695n2dgcdm5shz2jz5740000gn/T/ipykernel_7864/3386751747.py\u001b[0m in \u001b[0;36m<module>\u001b[0;34m\u001b[0m\n\u001b[1;32m      6\u001b[0m        \u001b[0;34m'deep'\u001b[0m\u001b[0;34m,\u001b[0m \u001b[0;34m'system_design'\u001b[0m\u001b[0;34m,\u001b[0m \u001b[0;34m'sql'\u001b[0m\u001b[0;34m,\u001b[0m \u001b[0;34m'stats'\u001b[0m\u001b[0;34m,\u001b[0m \u001b[0;34m'database'\u001b[0m\u001b[0;34m,\u001b[0m\u001b[0;34m\u001b[0m\u001b[0;34m\u001b[0m\u001b[0m\n\u001b[1;32m      7\u001b[0m        'research']\n\u001b[0;32m----> 8\u001b[0;31m \u001b[0mparsed_df\u001b[0m \u001b[0;34m=\u001b[0m \u001b[0mdf\u001b[0m\u001b[0;34m[\u001b[0m\u001b[0mfeature_list\u001b[0m\u001b[0;34m]\u001b[0m\u001b[0;34m\u001b[0m\u001b[0;34m\u001b[0m\u001b[0m\n\u001b[0m",
      "\u001b[0;32m~/opt/anaconda3/lib/python3.9/site-packages/pandas/core/frame.py\u001b[0m in \u001b[0;36m__getitem__\u001b[0;34m(self, key)\u001b[0m\n\u001b[1;32m   3462\u001b[0m             \u001b[0;32mif\u001b[0m \u001b[0mis_iterator\u001b[0m\u001b[0;34m(\u001b[0m\u001b[0mkey\u001b[0m\u001b[0;34m)\u001b[0m\u001b[0;34m:\u001b[0m\u001b[0;34m\u001b[0m\u001b[0;34m\u001b[0m\u001b[0m\n\u001b[1;32m   3463\u001b[0m                 \u001b[0mkey\u001b[0m \u001b[0;34m=\u001b[0m \u001b[0mlist\u001b[0m\u001b[0;34m(\u001b[0m\u001b[0mkey\u001b[0m\u001b[0;34m)\u001b[0m\u001b[0;34m\u001b[0m\u001b[0;34m\u001b[0m\u001b[0m\n\u001b[0;32m-> 3464\u001b[0;31m             \u001b[0mindexer\u001b[0m \u001b[0;34m=\u001b[0m \u001b[0mself\u001b[0m\u001b[0;34m.\u001b[0m\u001b[0mloc\u001b[0m\u001b[0;34m.\u001b[0m\u001b[0m_get_listlike_indexer\u001b[0m\u001b[0;34m(\u001b[0m\u001b[0mkey\u001b[0m\u001b[0;34m,\u001b[0m \u001b[0maxis\u001b[0m\u001b[0;34m=\u001b[0m\u001b[0;36m1\u001b[0m\u001b[0;34m)\u001b[0m\u001b[0;34m[\u001b[0m\u001b[0;36m1\u001b[0m\u001b[0;34m]\u001b[0m\u001b[0;34m\u001b[0m\u001b[0;34m\u001b[0m\u001b[0m\n\u001b[0m\u001b[1;32m   3465\u001b[0m \u001b[0;34m\u001b[0m\u001b[0m\n\u001b[1;32m   3466\u001b[0m         \u001b[0;31m# take() does not accept boolean indexers\u001b[0m\u001b[0;34m\u001b[0m\u001b[0;34m\u001b[0m\u001b[0m\n",
      "\u001b[0;32m~/opt/anaconda3/lib/python3.9/site-packages/pandas/core/indexing.py\u001b[0m in \u001b[0;36m_get_listlike_indexer\u001b[0;34m(self, key, axis)\u001b[0m\n\u001b[1;32m   1312\u001b[0m             \u001b[0mkeyarr\u001b[0m\u001b[0;34m,\u001b[0m \u001b[0mindexer\u001b[0m\u001b[0;34m,\u001b[0m \u001b[0mnew_indexer\u001b[0m \u001b[0;34m=\u001b[0m \u001b[0max\u001b[0m\u001b[0;34m.\u001b[0m\u001b[0m_reindex_non_unique\u001b[0m\u001b[0;34m(\u001b[0m\u001b[0mkeyarr\u001b[0m\u001b[0;34m)\u001b[0m\u001b[0;34m\u001b[0m\u001b[0;34m\u001b[0m\u001b[0m\n\u001b[1;32m   1313\u001b[0m \u001b[0;34m\u001b[0m\u001b[0m\n\u001b[0;32m-> 1314\u001b[0;31m         \u001b[0mself\u001b[0m\u001b[0;34m.\u001b[0m\u001b[0m_validate_read_indexer\u001b[0m\u001b[0;34m(\u001b[0m\u001b[0mkeyarr\u001b[0m\u001b[0;34m,\u001b[0m \u001b[0mindexer\u001b[0m\u001b[0;34m,\u001b[0m \u001b[0maxis\u001b[0m\u001b[0;34m)\u001b[0m\u001b[0;34m\u001b[0m\u001b[0;34m\u001b[0m\u001b[0m\n\u001b[0m\u001b[1;32m   1315\u001b[0m \u001b[0;34m\u001b[0m\u001b[0m\n\u001b[1;32m   1316\u001b[0m         if needs_i8_conversion(ax.dtype) or isinstance(\n",
      "\u001b[0;32m~/opt/anaconda3/lib/python3.9/site-packages/pandas/core/indexing.py\u001b[0m in \u001b[0;36m_validate_read_indexer\u001b[0;34m(self, key, indexer, axis)\u001b[0m\n\u001b[1;32m   1375\u001b[0m \u001b[0;34m\u001b[0m\u001b[0m\n\u001b[1;32m   1376\u001b[0m             \u001b[0mnot_found\u001b[0m \u001b[0;34m=\u001b[0m \u001b[0mlist\u001b[0m\u001b[0;34m(\u001b[0m\u001b[0mensure_index\u001b[0m\u001b[0;34m(\u001b[0m\u001b[0mkey\u001b[0m\u001b[0;34m)\u001b[0m\u001b[0;34m[\u001b[0m\u001b[0mmissing_mask\u001b[0m\u001b[0;34m.\u001b[0m\u001b[0mnonzero\u001b[0m\u001b[0;34m(\u001b[0m\u001b[0;34m)\u001b[0m\u001b[0;34m[\u001b[0m\u001b[0;36m0\u001b[0m\u001b[0;34m]\u001b[0m\u001b[0;34m]\u001b[0m\u001b[0;34m.\u001b[0m\u001b[0munique\u001b[0m\u001b[0;34m(\u001b[0m\u001b[0;34m)\u001b[0m\u001b[0;34m)\u001b[0m\u001b[0;34m\u001b[0m\u001b[0;34m\u001b[0m\u001b[0m\n\u001b[0;32m-> 1377\u001b[0;31m             \u001b[0;32mraise\u001b[0m \u001b[0mKeyError\u001b[0m\u001b[0;34m(\u001b[0m\u001b[0;34mf\"{not_found} not in index\"\u001b[0m\u001b[0;34m)\u001b[0m\u001b[0;34m\u001b[0m\u001b[0;34m\u001b[0m\u001b[0m\n\u001b[0m\u001b[1;32m   1378\u001b[0m \u001b[0;34m\u001b[0m\u001b[0m\n\u001b[1;32m   1379\u001b[0m \u001b[0;34m\u001b[0m\u001b[0m\n",
      "\u001b[0;31mKeyError\u001b[0m: \"['tot_exp', 'dom_exp'] not in index\""
     ]
    }
   ],
   "source": [
    "feature_list = ['bachelors_keywords', 'masters', 'masters_keywords',\n",
    "       'phd', 'phd_keywords', 'postdoc',\n",
    "       'current_domain',\n",
    "       'tot_exp', 'dom_exp',\n",
    "       'previous_roles', 'supervised', 'unsupervised',\n",
    "       'deep', 'system_design', 'sql', 'stats', 'database',\n",
    "       'research']\n",
    "parsed_df = df[feature_list]"
   ]
  },
  {
   "cell_type": "code",
   "execution_count": 13,
   "metadata": {
    "executionInfo": {
     "elapsed": 13,
     "status": "ok",
     "timestamp": 1640267862340,
     "user": {
      "displayName": "Aarush Mittal",
      "photoUrl": "https://lh3.googleusercontent.com/a-/AOh14Gjw8gyqLNQJRVxW5GvpWyHUmS1CySeB6krBbEYO=s64",
      "userId": "06830626512205362143"
     },
     "user_tz": -330
    },
    "id": "70HsnYkk_8U-"
   },
   "outputs": [],
   "source": [
    "closeness_df = pd.read_excel('profile-data.xlsx', sheet_name='domain_closeness')"
   ]
  },
  {
   "cell_type": "code",
   "execution_count": 12,
   "metadata": {
    "executionInfo": {
     "elapsed": 13,
     "status": "ok",
     "timestamp": 1640267862340,
     "user": {
      "displayName": "Aarush Mittal",
      "photoUrl": "https://lh3.googleusercontent.com/a-/AOh14Gjw8gyqLNQJRVxW5GvpWyHUmS1CySeB6krBbEYO=s64",
      "userId": "06830626512205362143"
     },
     "user_tz": -330
    },
    "id": "WaQPsKFSAL1P"
   },
   "outputs": [],
   "source": [
    "data = parsed_df.merge(closeness_df)"
   ]
  },
  {
   "cell_type": "code",
   "execution_count": 13,
   "metadata": {
    "colab": {
     "base_uri": "https://localhost:8080/",
     "height": 288
    },
    "executionInfo": {
     "elapsed": 442,
     "status": "ok",
     "timestamp": 1640267862768,
     "user": {
      "displayName": "Aarush Mittal",
      "photoUrl": "https://lh3.googleusercontent.com/a-/AOh14Gjw8gyqLNQJRVxW5GvpWyHUmS1CySeB6krBbEYO=s64",
      "userId": "06830626512205362143"
     },
     "user_tz": -330
    },
    "id": "HtqFoijcANFH",
    "outputId": "e87b43fc-4fa9-4aa1-dd6d-e7eab7796728"
   },
   "outputs": [
    {
     "data": {
      "text/html": [
       "\n",
       "  <div id=\"df-278b2555-c8b4-45e9-aaa8-0cef9baf0cbe\">\n",
       "    <div class=\"colab-df-container\">\n",
       "      <div>\n",
       "<style scoped>\n",
       "    .dataframe tbody tr th:only-of-type {\n",
       "        vertical-align: middle;\n",
       "    }\n",
       "\n",
       "    .dataframe tbody tr th {\n",
       "        vertical-align: top;\n",
       "    }\n",
       "\n",
       "    .dataframe thead th {\n",
       "        text-align: right;\n",
       "    }\n",
       "</style>\n",
       "<table border=\"1\" class=\"dataframe\">\n",
       "  <thead>\n",
       "    <tr style=\"text-align: right;\">\n",
       "      <th></th>\n",
       "      <th>bachelors_keywords</th>\n",
       "      <th>masters</th>\n",
       "      <th>masters_keywords</th>\n",
       "      <th>phd</th>\n",
       "      <th>phd_keywords</th>\n",
       "      <th>postdoc</th>\n",
       "      <th>current_domain</th>\n",
       "      <th>tot_exp</th>\n",
       "      <th>dom_exp</th>\n",
       "      <th>previous_roles</th>\n",
       "      <th>supervised</th>\n",
       "      <th>unsupervised</th>\n",
       "      <th>deep</th>\n",
       "      <th>system_design</th>\n",
       "      <th>sql</th>\n",
       "      <th>stats</th>\n",
       "      <th>database</th>\n",
       "      <th>research</th>\n",
       "      <th>ds_closeness</th>\n",
       "      <th>ml_closeness</th>\n",
       "    </tr>\n",
       "  </thead>\n",
       "  <tbody>\n",
       "    <tr>\n",
       "      <th>0</th>\n",
       "      <td>Engineering</td>\n",
       "      <td>Yes</td>\n",
       "      <td>Data Science</td>\n",
       "      <td>No</td>\n",
       "      <td>NaN</td>\n",
       "      <td>No</td>\n",
       "      <td>Data Science</td>\n",
       "      <td>2.5</td>\n",
       "      <td>2.5</td>\n",
       "      <td>Operations Analyst</td>\n",
       "      <td>Yes</td>\n",
       "      <td>Yes</td>\n",
       "      <td>No</td>\n",
       "      <td>No</td>\n",
       "      <td>Yes</td>\n",
       "      <td>Yes</td>\n",
       "      <td>Yes</td>\n",
       "      <td>No</td>\n",
       "      <td>1.0</td>\n",
       "      <td>0.0</td>\n",
       "    </tr>\n",
       "    <tr>\n",
       "      <th>1</th>\n",
       "      <td>Economics</td>\n",
       "      <td>No</td>\n",
       "      <td>NaN</td>\n",
       "      <td>No</td>\n",
       "      <td>NaN</td>\n",
       "      <td>No</td>\n",
       "      <td>Data Science</td>\n",
       "      <td>15.0</td>\n",
       "      <td>9.0</td>\n",
       "      <td>Operations Analyst</td>\n",
       "      <td>No</td>\n",
       "      <td>No</td>\n",
       "      <td>No</td>\n",
       "      <td>No</td>\n",
       "      <td>Yes</td>\n",
       "      <td>Yes</td>\n",
       "      <td>Yes</td>\n",
       "      <td>Yes</td>\n",
       "      <td>1.0</td>\n",
       "      <td>0.0</td>\n",
       "    </tr>\n",
       "    <tr>\n",
       "      <th>2</th>\n",
       "      <td>Electrical Engineering</td>\n",
       "      <td>Yes</td>\n",
       "      <td>IT</td>\n",
       "      <td>No</td>\n",
       "      <td>NaN</td>\n",
       "      <td>No</td>\n",
       "      <td>Data Science</td>\n",
       "      <td>6.0</td>\n",
       "      <td>6.0</td>\n",
       "      <td>Senior Business Associate</td>\n",
       "      <td>No</td>\n",
       "      <td>No</td>\n",
       "      <td>No</td>\n",
       "      <td>No</td>\n",
       "      <td>Yes</td>\n",
       "      <td>Yes</td>\n",
       "      <td>Yes</td>\n",
       "      <td>No</td>\n",
       "      <td>1.0</td>\n",
       "      <td>0.0</td>\n",
       "    </tr>\n",
       "    <tr>\n",
       "      <th>3</th>\n",
       "      <td>Economics</td>\n",
       "      <td>Yes</td>\n",
       "      <td>Statistics</td>\n",
       "      <td>No</td>\n",
       "      <td>NaN</td>\n",
       "      <td>No</td>\n",
       "      <td>Data Science</td>\n",
       "      <td>4.2</td>\n",
       "      <td>4.2</td>\n",
       "      <td>Data Analyst</td>\n",
       "      <td>No</td>\n",
       "      <td>No</td>\n",
       "      <td>No</td>\n",
       "      <td>No</td>\n",
       "      <td>Yes</td>\n",
       "      <td>Yes</td>\n",
       "      <td>Yes</td>\n",
       "      <td>No</td>\n",
       "      <td>0.5</td>\n",
       "      <td>0.5</td>\n",
       "    </tr>\n",
       "    <tr>\n",
       "      <th>4</th>\n",
       "      <td>Mathematics</td>\n",
       "      <td>Yes</td>\n",
       "      <td>HSS</td>\n",
       "      <td>No</td>\n",
       "      <td>NaN</td>\n",
       "      <td>No</td>\n",
       "      <td>Data Science</td>\n",
       "      <td>8.0</td>\n",
       "      <td>8.0</td>\n",
       "      <td>Data Analyst</td>\n",
       "      <td>Yes</td>\n",
       "      <td>Yes</td>\n",
       "      <td>Yes</td>\n",
       "      <td>Yes</td>\n",
       "      <td>Yes</td>\n",
       "      <td>Yes</td>\n",
       "      <td>Yes</td>\n",
       "      <td>Yes</td>\n",
       "      <td>0.5</td>\n",
       "      <td>0.5</td>\n",
       "    </tr>\n",
       "  </tbody>\n",
       "</table>\n",
       "</div>\n",
       "      <button class=\"colab-df-convert\" onclick=\"convertToInteractive('df-278b2555-c8b4-45e9-aaa8-0cef9baf0cbe')\"\n",
       "              title=\"Convert this dataframe to an interactive table.\"\n",
       "              style=\"display:none;\">\n",
       "        \n",
       "  <svg xmlns=\"http://www.w3.org/2000/svg\" height=\"24px\"viewBox=\"0 0 24 24\"\n",
       "       width=\"24px\">\n",
       "    <path d=\"M0 0h24v24H0V0z\" fill=\"none\"/>\n",
       "    <path d=\"M18.56 5.44l.94 2.06.94-2.06 2.06-.94-2.06-.94-.94-2.06-.94 2.06-2.06.94zm-11 1L8.5 8.5l.94-2.06 2.06-.94-2.06-.94L8.5 2.5l-.94 2.06-2.06.94zm10 10l.94 2.06.94-2.06 2.06-.94-2.06-.94-.94-2.06-.94 2.06-2.06.94z\"/><path d=\"M17.41 7.96l-1.37-1.37c-.4-.4-.92-.59-1.43-.59-.52 0-1.04.2-1.43.59L10.3 9.45l-7.72 7.72c-.78.78-.78 2.05 0 2.83L4 21.41c.39.39.9.59 1.41.59.51 0 1.02-.2 1.41-.59l7.78-7.78 2.81-2.81c.8-.78.8-2.07 0-2.86zM5.41 20L4 18.59l7.72-7.72 1.47 1.35L5.41 20z\"/>\n",
       "  </svg>\n",
       "      </button>\n",
       "      \n",
       "  <style>\n",
       "    .colab-df-container {\n",
       "      display:flex;\n",
       "      flex-wrap:wrap;\n",
       "      gap: 12px;\n",
       "    }\n",
       "\n",
       "    .colab-df-convert {\n",
       "      background-color: #E8F0FE;\n",
       "      border: none;\n",
       "      border-radius: 50%;\n",
       "      cursor: pointer;\n",
       "      display: none;\n",
       "      fill: #1967D2;\n",
       "      height: 32px;\n",
       "      padding: 0 0 0 0;\n",
       "      width: 32px;\n",
       "    }\n",
       "\n",
       "    .colab-df-convert:hover {\n",
       "      background-color: #E2EBFA;\n",
       "      box-shadow: 0px 1px 2px rgba(60, 64, 67, 0.3), 0px 1px 3px 1px rgba(60, 64, 67, 0.15);\n",
       "      fill: #174EA6;\n",
       "    }\n",
       "\n",
       "    [theme=dark] .colab-df-convert {\n",
       "      background-color: #3B4455;\n",
       "      fill: #D2E3FC;\n",
       "    }\n",
       "\n",
       "    [theme=dark] .colab-df-convert:hover {\n",
       "      background-color: #434B5C;\n",
       "      box-shadow: 0px 1px 3px 1px rgba(0, 0, 0, 0.15);\n",
       "      filter: drop-shadow(0px 1px 2px rgba(0, 0, 0, 0.3));\n",
       "      fill: #FFFFFF;\n",
       "    }\n",
       "  </style>\n",
       "\n",
       "      <script>\n",
       "        const buttonEl =\n",
       "          document.querySelector('#df-278b2555-c8b4-45e9-aaa8-0cef9baf0cbe button.colab-df-convert');\n",
       "        buttonEl.style.display =\n",
       "          google.colab.kernel.accessAllowed ? 'block' : 'none';\n",
       "\n",
       "        async function convertToInteractive(key) {\n",
       "          const element = document.querySelector('#df-278b2555-c8b4-45e9-aaa8-0cef9baf0cbe');\n",
       "          const dataTable =\n",
       "            await google.colab.kernel.invokeFunction('convertToInteractive',\n",
       "                                                     [key], {});\n",
       "          if (!dataTable) return;\n",
       "\n",
       "          const docLinkHtml = 'Like what you see? Visit the ' +\n",
       "            '<a target=\"_blank\" href=https://colab.research.google.com/notebooks/data_table.ipynb>data table notebook</a>'\n",
       "            + ' to learn more about interactive tables.';\n",
       "          element.innerHTML = '';\n",
       "          dataTable['output_type'] = 'display_data';\n",
       "          await google.colab.output.renderOutput(dataTable, element);\n",
       "          const docLink = document.createElement('div');\n",
       "          docLink.innerHTML = docLinkHtml;\n",
       "          element.appendChild(docLink);\n",
       "        }\n",
       "      </script>\n",
       "    </div>\n",
       "  </div>\n",
       "  "
      ],
      "text/plain": [
       "       bachelors_keywords masters  ... ds_closeness ml_closeness\n",
       "0             Engineering     Yes  ...          1.0          0.0\n",
       "1               Economics      No  ...          1.0          0.0\n",
       "2  Electrical Engineering     Yes  ...          1.0          0.0\n",
       "3               Economics     Yes  ...          0.5          0.5\n",
       "4             Mathematics     Yes  ...          0.5          0.5\n",
       "\n",
       "[5 rows x 20 columns]"
      ]
     },
     "execution_count": 13,
     "metadata": {},
     "output_type": "execute_result"
    }
   ],
   "source": [
    "data.head()"
   ]
  },
  {
   "cell_type": "code",
   "execution_count": 14,
   "metadata": {
    "colab": {
     "base_uri": "https://localhost:8080/"
    },
    "executionInfo": {
     "elapsed": 3456,
     "status": "ok",
     "timestamp": 1640267866217,
     "user": {
      "displayName": "Aarush Mittal",
      "photoUrl": "https://lh3.googleusercontent.com/a-/AOh14Gjw8gyqLNQJRVxW5GvpWyHUmS1CySeB6krBbEYO=s64",
      "userId": "06830626512205362143"
     },
     "user_tz": -330
    },
    "id": "hbnSwFndY8je",
    "outputId": "a78b7f4b-a375-4c8c-9a8b-a02ecbbbf87c"
   },
   "outputs": [
    {
     "name": "stdout",
     "output_type": "stream",
     "text": [
      "Collecting kmodes\n",
      "  Downloading kmodes-0.11.1-py2.py3-none-any.whl (19 kB)\n",
      "Requirement already satisfied: scipy>=0.13.3 in /usr/local/lib/python3.7/dist-packages (from kmodes) (1.4.1)\n",
      "Requirement already satisfied: joblib>=0.11 in /usr/local/lib/python3.7/dist-packages (from kmodes) (1.1.0)\n",
      "Requirement already satisfied: numpy>=1.10.4 in /usr/local/lib/python3.7/dist-packages (from kmodes) (1.19.5)\n",
      "Requirement already satisfied: scikit-learn>=0.22.0 in /usr/local/lib/python3.7/dist-packages (from kmodes) (1.0.1)\n",
      "Requirement already satisfied: threadpoolctl>=2.0.0 in /usr/local/lib/python3.7/dist-packages (from scikit-learn>=0.22.0->kmodes) (3.0.0)\n",
      "Installing collected packages: kmodes\n",
      "Successfully installed kmodes-0.11.1\n"
     ]
    }
   ],
   "source": [
    "!pip install kmodes"
   ]
  },
  {
   "cell_type": "code",
   "execution_count": 15,
   "metadata": {
    "executionInfo": {
     "elapsed": 16,
     "status": "ok",
     "timestamp": 1640267866217,
     "user": {
      "displayName": "Aarush Mittal",
      "photoUrl": "https://lh3.googleusercontent.com/a-/AOh14Gjw8gyqLNQJRVxW5GvpWyHUmS1CySeB6krBbEYO=s64",
      "userId": "06830626512205362143"
     },
     "user_tz": -330
    },
    "id": "8u66PTu4ZEUm"
   },
   "outputs": [],
   "source": [
    "df = pd.get_dummies(data, columns=['current_domain'], drop_first=True)\n",
    "df.drop('previous_roles', axis=1, inplace=True)\n",
    "df.fillna('None', inplace=True)\n",
    "X = df.drop('current_domain_Machine Learning', axis=1).values\n",
    "y = df['current_domain_Machine Learning'].values"
   ]
  },
  {
   "cell_type": "code",
   "execution_count": 16,
   "metadata": {
    "colab": {
     "base_uri": "https://localhost:8080/"
    },
    "executionInfo": {
     "elapsed": 16,
     "status": "ok",
     "timestamp": 1640267866218,
     "user": {
      "displayName": "Aarush Mittal",
      "photoUrl": "https://lh3.googleusercontent.com/a-/AOh14Gjw8gyqLNQJRVxW5GvpWyHUmS1CySeB6krBbEYO=s64",
      "userId": "06830626512205362143"
     },
     "user_tz": -330
    },
    "id": "35snzVfhbdXC",
    "outputId": "d9d2f8a7-735b-427b-9dff-85aff8b1f70c"
   },
   "outputs": [
    {
     "name": "stdout",
     "output_type": "stream",
     "text": [
      "<class 'pandas.core.frame.DataFrame'>\n",
      "Int64Index: 97 entries, 0 to 96\n",
      "Data columns (total 19 columns):\n",
      " #   Column                           Non-Null Count  Dtype  \n",
      "---  ------                           --------------  -----  \n",
      " 0   bachelors_keywords               97 non-null     object \n",
      " 1   masters                          97 non-null     object \n",
      " 2   masters_keywords                 97 non-null     object \n",
      " 3   phd                              97 non-null     object \n",
      " 4   phd_keywords                     97 non-null     object \n",
      " 5   postdoc                          97 non-null     object \n",
      " 6   tot_exp                          97 non-null     float64\n",
      " 7   dom_exp                          97 non-null     float64\n",
      " 8   supervised                       97 non-null     object \n",
      " 9   unsupervised                     97 non-null     object \n",
      " 10  deep                             97 non-null     object \n",
      " 11  system_design                    97 non-null     object \n",
      " 12  sql                              97 non-null     object \n",
      " 13  stats                            97 non-null     object \n",
      " 14  database                         97 non-null     object \n",
      " 15  research                         97 non-null     object \n",
      " 16  ds_closeness                     97 non-null     float64\n",
      " 17  ml_closeness                     97 non-null     float64\n",
      " 18  current_domain_Machine Learning  97 non-null     uint8  \n",
      "dtypes: float64(4), object(14), uint8(1)\n",
      "memory usage: 14.5+ KB\n"
     ]
    }
   ],
   "source": [
    "df.info()"
   ]
  },
  {
   "cell_type": "code",
   "execution_count": 17,
   "metadata": {
    "executionInfo": {
     "elapsed": 672,
     "status": "ok",
     "timestamp": 1640267866876,
     "user": {
      "displayName": "Aarush Mittal",
      "photoUrl": "https://lh3.googleusercontent.com/a-/AOh14Gjw8gyqLNQJRVxW5GvpWyHUmS1CySeB6krBbEYO=s64",
      "userId": "06830626512205362143"
     },
     "user_tz": -330
    },
    "id": "nB1O22W2ZgNg"
   },
   "outputs": [],
   "source": [
    "#index of categorical columns\n",
    "categorical_index = list(range(0, 6)) + list(range(8, 16))"
   ]
  },
  {
   "cell_type": "code",
   "execution_count": 18,
   "metadata": {
    "executionInfo": {
     "elapsed": 8,
     "status": "ok",
     "timestamp": 1640267866878,
     "user": {
      "displayName": "Aarush Mittal",
      "photoUrl": "https://lh3.googleusercontent.com/a-/AOh14Gjw8gyqLNQJRVxW5GvpWyHUmS1CySeB6krBbEYO=s64",
      "userId": "06830626512205362143"
     },
     "user_tz": -330
    },
    "id": "Pgv2pakzW0C2"
   },
   "outputs": [],
   "source": [
    "from kmodes.kprototypes import KPrototypes"
   ]
  },
  {
   "cell_type": "code",
   "execution_count": 19,
   "metadata": {
    "colab": {
     "base_uri": "https://localhost:8080/"
    },
    "executionInfo": {
     "elapsed": 1702,
     "status": "ok",
     "timestamp": 1640267868573,
     "user": {
      "displayName": "Aarush Mittal",
      "photoUrl": "https://lh3.googleusercontent.com/a-/AOh14Gjw8gyqLNQJRVxW5GvpWyHUmS1CySeB6krBbEYO=s64",
      "userId": "06830626512205362143"
     },
     "user_tz": -330
    },
    "id": "fIUlaXWZcmtt",
    "outputId": "2ae28066-35fe-4b79-c63d-2b05cc7da1e3"
   },
   "outputs": [
    {
     "data": {
      "text/plain": [
       "array([0, 1, 0, 0, 0, 0, 0, 0, 0, 0, 0, 0, 0, 0, 0, 0, 1, 0, 0, 0, 0, 0,\n",
       "       0, 0, 0, 1, 0, 0, 0, 1, 0, 1, 0, 1, 0, 0, 1, 1, 1, 1, 1, 0, 1, 0,\n",
       "       1, 0, 0, 0, 0, 0, 0, 0, 0, 0, 0, 0, 0, 0, 0, 0, 0, 0, 1, 0, 1, 0,\n",
       "       0, 0, 0, 0, 0, 0, 0, 0, 0, 0, 0, 0, 0, 0, 0, 0, 0, 0, 0, 0, 0, 0,\n",
       "       0, 0, 0, 0, 1, 0, 1, 0, 1], dtype=uint16)"
      ]
     },
     "execution_count": 19,
     "metadata": {},
     "output_type": "execute_result"
    }
   ],
   "source": [
    "# Fit the cluster\n",
    "kprototype = KPrototypes(n_jobs = -1, n_clusters = 2, init = 'Huang', random_state = 0)\n",
    "kprototype.fit_predict(X, categorical = categorical_index)"
   ]
  },
  {
   "cell_type": "code",
   "execution_count": 20,
   "metadata": {
    "executionInfo": {
     "elapsed": 8,
     "status": "ok",
     "timestamp": 1640267868574,
     "user": {
      "displayName": "Aarush Mittal",
      "photoUrl": "https://lh3.googleusercontent.com/a-/AOh14Gjw8gyqLNQJRVxW5GvpWyHUmS1CySeB6krBbEYO=s64",
      "userId": "06830626512205362143"
     },
     "user_tz": -330
    },
    "id": "iwkguCIscxG8"
   },
   "outputs": [],
   "source": [
    "# Add the cluster to the dataframe\n",
    "df['Cluster Labels'] = kprototype.labels_\n",
    "df['Segment'] = df['Cluster Labels'].map({0:'Machine Learning', 1:'Data Science'})"
   ]
  },
  {
   "cell_type": "code",
   "execution_count": 21,
   "metadata": {
    "colab": {
     "base_uri": "https://localhost:8080/",
     "height": 183
    },
    "executionInfo": {
     "elapsed": 628,
     "status": "ok",
     "timestamp": 1640267869194,
     "user": {
      "displayName": "Aarush Mittal",
      "photoUrl": "https://lh3.googleusercontent.com/a-/AOh14Gjw8gyqLNQJRVxW5GvpWyHUmS1CySeB6krBbEYO=s64",
      "userId": "06830626512205362143"
     },
     "user_tz": -330
    },
    "id": "YDnZXyrTdN_p",
    "outputId": "0ca48af6-cb33-413b-bc55-e43fb7339bd6"
   },
   "outputs": [
    {
     "data": {
      "text/html": [
       "\n",
       "  <div id=\"df-bc52cba9-dae0-488a-98e4-34f4ae535185\">\n",
       "    <div class=\"colab-df-container\">\n",
       "      <div>\n",
       "<style scoped>\n",
       "    .dataframe tbody tr th:only-of-type {\n",
       "        vertical-align: middle;\n",
       "    }\n",
       "\n",
       "    .dataframe tbody tr th {\n",
       "        vertical-align: top;\n",
       "    }\n",
       "\n",
       "    .dataframe thead th {\n",
       "        text-align: right;\n",
       "    }\n",
       "</style>\n",
       "<table border=\"1\" class=\"dataframe\">\n",
       "  <thead>\n",
       "    <tr style=\"text-align: right;\">\n",
       "      <th></th>\n",
       "      <th>Segment</th>\n",
       "      <th>Total</th>\n",
       "      <th>bachelors_keywords</th>\n",
       "      <th>masters_keywords</th>\n",
       "      <th>masters</th>\n",
       "      <th>phd</th>\n",
       "      <th>postdoc</th>\n",
       "      <th>supervised</th>\n",
       "      <th>unsupervised</th>\n",
       "      <th>deep</th>\n",
       "      <th>system_design</th>\n",
       "      <th>sql</th>\n",
       "      <th>database</th>\n",
       "      <th>research</th>\n",
       "      <th>tot_exp</th>\n",
       "      <th>dom_exp</th>\n",
       "      <th>ds_closeness</th>\n",
       "      <th>ml_closeness</th>\n",
       "    </tr>\n",
       "  </thead>\n",
       "  <tbody>\n",
       "    <tr>\n",
       "      <th>0</th>\n",
       "      <td>Data Science</td>\n",
       "      <td>18</td>\n",
       "      <td>HSS</td>\n",
       "      <td>None</td>\n",
       "      <td>Yes</td>\n",
       "      <td>No</td>\n",
       "      <td>No</td>\n",
       "      <td>No</td>\n",
       "      <td>No</td>\n",
       "      <td>No</td>\n",
       "      <td>No</td>\n",
       "      <td>Yes</td>\n",
       "      <td>Yes</td>\n",
       "      <td>Yes</td>\n",
       "      <td>14.283333</td>\n",
       "      <td>11.072222</td>\n",
       "      <td>0.754902</td>\n",
       "      <td>0.245098</td>\n",
       "    </tr>\n",
       "    <tr>\n",
       "      <th>1</th>\n",
       "      <td>Machine Learning</td>\n",
       "      <td>79</td>\n",
       "      <td>Computer Science</td>\n",
       "      <td>Computer Science</td>\n",
       "      <td>Yes</td>\n",
       "      <td>No</td>\n",
       "      <td>No</td>\n",
       "      <td>Yes</td>\n",
       "      <td>Yes</td>\n",
       "      <td>Yes</td>\n",
       "      <td>Yes</td>\n",
       "      <td>Yes</td>\n",
       "      <td>Yes</td>\n",
       "      <td>Yes</td>\n",
       "      <td>5.575949</td>\n",
       "      <td>4.572785</td>\n",
       "      <td>0.435592</td>\n",
       "      <td>0.564408</td>\n",
       "    </tr>\n",
       "  </tbody>\n",
       "</table>\n",
       "</div>\n",
       "      <button class=\"colab-df-convert\" onclick=\"convertToInteractive('df-bc52cba9-dae0-488a-98e4-34f4ae535185')\"\n",
       "              title=\"Convert this dataframe to an interactive table.\"\n",
       "              style=\"display:none;\">\n",
       "        \n",
       "  <svg xmlns=\"http://www.w3.org/2000/svg\" height=\"24px\"viewBox=\"0 0 24 24\"\n",
       "       width=\"24px\">\n",
       "    <path d=\"M0 0h24v24H0V0z\" fill=\"none\"/>\n",
       "    <path d=\"M18.56 5.44l.94 2.06.94-2.06 2.06-.94-2.06-.94-.94-2.06-.94 2.06-2.06.94zm-11 1L8.5 8.5l.94-2.06 2.06-.94-2.06-.94L8.5 2.5l-.94 2.06-2.06.94zm10 10l.94 2.06.94-2.06 2.06-.94-2.06-.94-.94-2.06-.94 2.06-2.06.94z\"/><path d=\"M17.41 7.96l-1.37-1.37c-.4-.4-.92-.59-1.43-.59-.52 0-1.04.2-1.43.59L10.3 9.45l-7.72 7.72c-.78.78-.78 2.05 0 2.83L4 21.41c.39.39.9.59 1.41.59.51 0 1.02-.2 1.41-.59l7.78-7.78 2.81-2.81c.8-.78.8-2.07 0-2.86zM5.41 20L4 18.59l7.72-7.72 1.47 1.35L5.41 20z\"/>\n",
       "  </svg>\n",
       "      </button>\n",
       "      \n",
       "  <style>\n",
       "    .colab-df-container {\n",
       "      display:flex;\n",
       "      flex-wrap:wrap;\n",
       "      gap: 12px;\n",
       "    }\n",
       "\n",
       "    .colab-df-convert {\n",
       "      background-color: #E8F0FE;\n",
       "      border: none;\n",
       "      border-radius: 50%;\n",
       "      cursor: pointer;\n",
       "      display: none;\n",
       "      fill: #1967D2;\n",
       "      height: 32px;\n",
       "      padding: 0 0 0 0;\n",
       "      width: 32px;\n",
       "    }\n",
       "\n",
       "    .colab-df-convert:hover {\n",
       "      background-color: #E2EBFA;\n",
       "      box-shadow: 0px 1px 2px rgba(60, 64, 67, 0.3), 0px 1px 3px 1px rgba(60, 64, 67, 0.15);\n",
       "      fill: #174EA6;\n",
       "    }\n",
       "\n",
       "    [theme=dark] .colab-df-convert {\n",
       "      background-color: #3B4455;\n",
       "      fill: #D2E3FC;\n",
       "    }\n",
       "\n",
       "    [theme=dark] .colab-df-convert:hover {\n",
       "      background-color: #434B5C;\n",
       "      box-shadow: 0px 1px 3px 1px rgba(0, 0, 0, 0.15);\n",
       "      filter: drop-shadow(0px 1px 2px rgba(0, 0, 0, 0.3));\n",
       "      fill: #FFFFFF;\n",
       "    }\n",
       "  </style>\n",
       "\n",
       "      <script>\n",
       "        const buttonEl =\n",
       "          document.querySelector('#df-bc52cba9-dae0-488a-98e4-34f4ae535185 button.colab-df-convert');\n",
       "        buttonEl.style.display =\n",
       "          google.colab.kernel.accessAllowed ? 'block' : 'none';\n",
       "\n",
       "        async function convertToInteractive(key) {\n",
       "          const element = document.querySelector('#df-bc52cba9-dae0-488a-98e4-34f4ae535185');\n",
       "          const dataTable =\n",
       "            await google.colab.kernel.invokeFunction('convertToInteractive',\n",
       "                                                     [key], {});\n",
       "          if (!dataTable) return;\n",
       "\n",
       "          const docLinkHtml = 'Like what you see? Visit the ' +\n",
       "            '<a target=\"_blank\" href=https://colab.research.google.com/notebooks/data_table.ipynb>data table notebook</a>'\n",
       "            + ' to learn more about interactive tables.';\n",
       "          element.innerHTML = '';\n",
       "          dataTable['output_type'] = 'display_data';\n",
       "          await google.colab.output.renderOutput(dataTable, element);\n",
       "          const docLink = document.createElement('div');\n",
       "          docLink.innerHTML = docLinkHtml;\n",
       "          element.appendChild(docLink);\n",
       "        }\n",
       "      </script>\n",
       "    </div>\n",
       "  </div>\n",
       "  "
      ],
      "text/plain": [
       "            Segment  Total  ... ds_closeness ml_closeness\n",
       "0      Data Science     18  ...     0.754902     0.245098\n",
       "1  Machine Learning     79  ...     0.435592     0.564408\n",
       "\n",
       "[2 rows x 18 columns]"
      ]
     },
     "execution_count": 21,
     "metadata": {},
     "output_type": "execute_result"
    }
   ],
   "source": [
    "# Cluster interpretation\n",
    "df.rename(columns = {'Cluster Labels':'Total'}, inplace = True)\n",
    "df.groupby('Segment').agg(\n",
    "    {\n",
    "        'Total':'count',\n",
    "        'bachelors_keywords': lambda x: x.value_counts().index[0],\n",
    "        'masters_keywords': lambda x: x.value_counts().index[0],\n",
    "        'masters': lambda x: x.value_counts().index[0],\n",
    "        'phd': lambda x: x.value_counts().index[0],\n",
    "        'postdoc': lambda x: x.value_counts().index[0],\n",
    "        'supervised': lambda x: x.value_counts().index[0],\n",
    "        'unsupervised': lambda x: x.value_counts().index[0],\n",
    "        'deep': lambda x: x.value_counts().index[0],\n",
    "        'system_design': lambda x: x.value_counts().index[0],\n",
    "        'sql': lambda x: x.value_counts().index[0],\n",
    "        'database': lambda x: x.value_counts().index[0],\n",
    "        'research': lambda x: x.value_counts().index[0],\n",
    "        'tot_exp': 'mean',\n",
    "        'dom_exp': 'mean',\n",
    "        'ds_closeness': 'mean',\n",
    "        'ml_closeness': 'mean',\n",
    "    }\n",
    ").reset_index()"
   ]
  },
  {
   "cell_type": "code",
   "execution_count": 22,
   "metadata": {
    "colab": {
     "base_uri": "https://localhost:8080/"
    },
    "executionInfo": {
     "elapsed": 13,
     "status": "ok",
     "timestamp": 1640267869194,
     "user": {
      "displayName": "Aarush Mittal",
      "photoUrl": "https://lh3.googleusercontent.com/a-/AOh14Gjw8gyqLNQJRVxW5GvpWyHUmS1CySeB6krBbEYO=s64",
      "userId": "06830626512205362143"
     },
     "user_tz": -330
    },
    "id": "o-J-8OTvg4bh",
    "outputId": "8e7fc7b4-8e39-4f93-867e-a3754a872985"
   },
   "outputs": [
    {
     "name": "stdout",
     "output_type": "stream",
     "text": [
      "37\n"
     ]
    }
   ],
   "source": [
    "def XNOR(a,b):\n",
    "  if(a == b):\n",
    "    return 1\n",
    "  else:\n",
    "    return 0\n",
    "correct = sum([XNOR(a,b) for a,b in zip(kprototype.labels_, y)])\n",
    "print(correct)"
   ]
  },
  {
   "cell_type": "code",
   "execution_count": 23,
   "metadata": {
    "colab": {
     "base_uri": "https://localhost:8080/"
    },
    "executionInfo": {
     "elapsed": 10,
     "status": "ok",
     "timestamp": 1640267869194,
     "user": {
      "displayName": "Aarush Mittal",
      "photoUrl": "https://lh3.googleusercontent.com/a-/AOh14Gjw8gyqLNQJRVxW5GvpWyHUmS1CySeB6krBbEYO=s64",
      "userId": "06830626512205362143"
     },
     "user_tz": -330
    },
    "id": "tNgHH1pOg5ST",
    "outputId": "29b6a632-b58c-46f4-9596-37283850ae5c"
   },
   "outputs": [
    {
     "name": "stdout",
     "output_type": "stream",
     "text": [
      "accuracy = 0.38144329896907214\n"
     ]
    }
   ],
   "source": [
    "print('accuracy = ' + str(correct/len(y)))"
   ]
  },
  {
   "cell_type": "code",
   "execution_count": 30,
   "metadata": {
    "colab": {
     "base_uri": "https://localhost:8080/"
    },
    "executionInfo": {
     "elapsed": 66,
     "status": "ok",
     "timestamp": 1640268340256,
     "user": {
      "displayName": "Aarush Mittal",
      "photoUrl": "https://lh3.googleusercontent.com/a-/AOh14Gjw8gyqLNQJRVxW5GvpWyHUmS1CySeB6krBbEYO=s64",
      "userId": "06830626512205362143"
     },
     "user_tz": -330
    },
    "id": "BQkDFTtrharw",
    "outputId": "abde31f4-bcd7-4235-9d7d-1d0db123dcff"
   },
   "outputs": [
    {
     "name": "stdout",
     "output_type": "stream",
     "text": [
      "0.319971870604782\n"
     ]
    }
   ],
   "source": [
    "from sklearn.metrics import precision_recall_fscore_support\n",
    "scores = precision_recall_fscore_support(y, kprototype.labels_, average='macro')\n",
    "# print('Precision: {0}, Recall: {1}'.format(scores[:2]))\n",
    "print(scores[0])"
   ]
  },
  {
   "cell_type": "code",
   "execution_count": null,
   "metadata": {
    "id": "3sWsY77EmfPL"
   },
   "outputs": [],
   "source": []
  }
 ],
 "metadata": {
  "colab": {
   "authorship_tag": "ABX9TyMm0f6Ctpw8hNVP8Ntqv7uG",
   "name": "ik-hackathon-code-final.ipynb",
   "provenance": [
    {
     "file_id": "1p7HGW8x3pMOKkQgsvHzSO_coVMG5NakN",
     "timestamp": 1638437745788
    }
   ]
  },
  "kernelspec": {
   "display_name": "Python 3 (ipykernel)",
   "language": "python",
   "name": "python3"
  },
  "language_info": {
   "codemirror_mode": {
    "name": "ipython",
    "version": 3
   },
   "file_extension": ".py",
   "mimetype": "text/x-python",
   "name": "python",
   "nbconvert_exporter": "python",
   "pygments_lexer": "ipython3",
   "version": "3.9.7"
  }
 },
 "nbformat": 4,
 "nbformat_minor": 1
}
